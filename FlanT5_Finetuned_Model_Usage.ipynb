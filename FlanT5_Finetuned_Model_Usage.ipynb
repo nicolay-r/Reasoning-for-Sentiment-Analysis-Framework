{
  "nbformat": 4,
  "nbformat_minor": 0,
  "metadata": {
    "colab": {
      "provenance": [],
      "machine_shape": "hm",
      "gpuType": "L4",
      "authorship_tag": "ABX9TyN8aH6JwBOLOlqvMuAiAX7S",
      "include_colab_link": true
    },
    "kernelspec": {
      "name": "python3",
      "display_name": "Python 3"
    },
    "language_info": {
      "name": "python"
    },
    "accelerator": "GPU"
  },
  "cells": [
    {
      "cell_type": "markdown",
      "metadata": {
        "id": "view-in-github",
        "colab_type": "text"
      },
      "source": [
        "<a href=\"https://colab.research.google.com/github/nicolay-r/Reasoning-for-Sentiment-Analysis-Framework/blob/main/FlanT5_Finetuned_Model_Usage.ipynb\" target=\"_parent\"><img src=\"https://colab.research.google.com/assets/colab-badge.svg\" alt=\"Open In Colab\"/></a>"
      ]
    },
    {
      "cell_type": "markdown",
      "source": [
        "# Direct usage of THoR-tuned Flan-T5  • [![twitter](https://img.shields.io/twitter/url/https/shields.io.svg?style=social)](https://twitter.com/nicolayr_/status/1781330684289658933)\n",
        "[![arXiv](https://img.shields.io/badge/arXiv-2404.12342-b31b1b.svg)](https://arxiv.org/abs/2404.12342)\n",
        "\n",
        "\n",
        "This notebook represent the framework-less way for launching THoR-tuned Flan-T5 model for inference.\n",
        "\n",
        "In particular, this project represent an application for `RuSentNE-2023` dataset.\n",
        "\n",
        "### [github project](https://github.com/nicolay-r/Reasoning-for-Sentiment-Analysis-Framework)"
      ],
      "metadata": {
        "id": "pCZiy1ihpaE1"
      }
    },
    {
      "cell_type": "code",
      "source": [
        "import torch\n",
        "from transformers import AutoTokenizer, T5ForConditionalGeneration\n",
        "\n",
        "# Setup model path.\n",
        "model_path = \"nicolay-r/flan-t5-tsa-thor-xl\"\n",
        "# Setup device.\n",
        "device = \"cuda:0\"\n",
        "\n",
        "model = T5ForConditionalGeneration.from_pretrained(model_path, torch_dtype=torch.bfloat16)\n",
        "tokenizer = AutoTokenizer.from_pretrained(model_path)\n",
        "model.to(device)"
      ],
      "metadata": {
        "id": "PXkd53SaoXG-"
      },
      "execution_count": null,
      "outputs": []
    },
    {
      "cell_type": "markdown",
      "source": [
        "Setup `ask` method for generating LLM responses."
      ],
      "metadata": {
        "id": "C1EykmC61ekQ"
      }
    },
    {
      "cell_type": "code",
      "execution_count": 3,
      "metadata": {
        "id": "d-CCg2IHoNui"
      },
      "outputs": [],
      "source": [
        "def ask(prompt):\n",
        "  inputs = tokenizer(prompt, return_tensors=\"pt\", add_special_tokens=False)\n",
        "  inputs.to(device)\n",
        "  output = model.generate(**inputs, temperature=1)\n",
        "  return tokenizer.batch_decode(output, skip_special_tokens=True)[0]"
      ]
    },
    {
      "cell_type": "markdown",
      "source": [
        "Setup Chain-of-Thought"
      ],
      "metadata": {
        "id": "JdFUnOKW1i7_"
      }
    },
    {
      "cell_type": "code",
      "source": [
        "def target_sentiment_extraction(sentence, target):\n",
        "  # Setup labels.\n",
        "  labels_list = ['neutral', 'positive', 'negative']\n",
        "  # Setup Chain-of-Thought\n",
        "  step1 = f\"Given the sentence {sentence}, which specific aspect of {target} is possibly mentioned?\"\n",
        "  aspect = ask(step1)\n",
        "  step2 = f\"{step1}. The mentioned aspect is about {aspect}. Based on the common sense, what is the implicit opinion towards the mentioned aspect of {target}, and why?\"\n",
        "  opinion = ask(step2)\n",
        "  step3 = f\"{step2}. The opinion towards the mentioned aspect of {target} is {opinion}. Based on such opinion, what is the sentiment polarity towards {target}?\"\n",
        "  emotion_state = ask(step3)\n",
        "  step4 = f\"{step3}. The sentiment polarity is {emotion_state}. Based on these contexts, summarize and return the sentiment polarity only, \" + \"such as: {}.\".format(\", \".join(labels_list))\n",
        "  # Return the final response.\n",
        "  return ask(step4)"
      ],
      "metadata": {
        "id": "FWjmKBDmocvB"
      },
      "execution_count": 4,
      "outputs": []
    },
    {
      "cell_type": "markdown",
      "source": [
        "## Usage"
      ],
      "metadata": {
        "id": "Y0T13wG71ahC"
      }
    },
    {
      "cell_type": "code",
      "source": [
        "# Input sentence.\n",
        "sentence = \"Over the past 28 years, the leader has been working hard to achieve the release of Peltier and is a member of the Leonard Peltier Defense Committee.\"\n",
        "# Input target.\n",
        "target = \"Peltier\"\n",
        "# output response\n",
        "flant5_response = target_sentiment_extraction(sentence, target)\n",
        "print(f\"Author opinion towards `{target}` in `{sentence}` is:\\n{flant5_response}\")"
      ],
      "metadata": {
        "colab": {
          "base_uri": "https://localhost:8080/"
        },
        "id": "abMQh8HwuQ5C",
        "outputId": "348d3ac8-0d05-45f4-fb9c-b8917ba515b6"
      },
      "execution_count": 31,
      "outputs": [
        {
          "output_type": "stream",
          "name": "stdout",
          "text": [
            "Author opinion towards `Peltier` in `Over the past 28 years, the leader has been working hard to achieve the release of Peltier and is a member of the Leonard Peltier Defense Committee.` is:\n",
            "positive\n"
          ]
        }
      ]
    }
  ]
}