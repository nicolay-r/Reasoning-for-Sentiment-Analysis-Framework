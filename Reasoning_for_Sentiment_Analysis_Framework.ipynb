{
  "nbformat": 4,
  "nbformat_minor": 0,
  "metadata": {
    "colab": {
      "provenance": [],
      "authorship_tag": "ABX9TyOguU/Od6MJ7Dwb6xsWQIVa",
      "include_colab_link": true
    },
    "kernelspec": {
      "name": "python3",
      "display_name": "Python 3"
    },
    "language_info": {
      "name": "python"
    }
  },
  "cells": [
    {
      "cell_type": "markdown",
      "metadata": {
        "id": "view-in-github",
        "colab_type": "text"
      },
      "source": [
        "<a href=\"https://colab.research.google.com/github/nicolay-r/Reasoning-for-Sentiment-Analysis-Framework/blob/main/Reasoning_for_Sentiment_Analysis_Framework.ipynb\" target=\"_parent\"><img src=\"https://colab.research.google.com/assets/colab-badge.svg\" alt=\"Open In Colab\"/></a>"
      ]
    },
    {
      "cell_type": "markdown",
      "source": [
        "# Setup"
      ],
      "metadata": {
        "id": "4ZZFWvOw24tR"
      }
    },
    {
      "cell_type": "code",
      "execution_count": null,
      "metadata": {
        "id": "L9EGkq9fxHd0"
      },
      "outputs": [],
      "source": [
        "!sudo apt-get install python3.8 python3.8-distutils\n",
        "!sudo update-alternatives --install /usr/bin/python3 python3 /usr/bin/python3.8 1\n",
        "!sudo update-alternatives --config python3\n",
        "!python3 --version\n",
        "!sudo apt install python3-pip"
      ]
    },
    {
      "cell_type": "markdown",
      "source": [
        "Clone the project"
      ],
      "metadata": {
        "id": "7ZC7LazFydS6"
      }
    },
    {
      "cell_type": "code",
      "source": [
        "!git init .\n",
        "!git remote add origin https://github.com/nicolay-r/Reasoning-for-Sentiment-Analysis-Framework\n",
        "!git pull origin main"
      ],
      "metadata": {
        "id": "zx_WPcIqyWgs"
      },
      "execution_count": null,
      "outputs": []
    },
    {
      "cell_type": "markdown",
      "source": [
        "Install related dependencies"
      ],
      "metadata": {
        "id": "UDlJpL1hyiq0"
      }
    },
    {
      "cell_type": "code",
      "source": [
        "!pip install -r dependencies_zs.txt\n",
        "!pip install -r dependencies_ft.txt"
      ],
      "metadata": {
        "id": "L4zzN1MvyBEn"
      },
      "execution_count": null,
      "outputs": []
    },
    {
      "cell_type": "markdown",
      "source": [
        "Download necessary resources"
      ],
      "metadata": {
        "id": "_xIBc6H8ykv8"
      }
    },
    {
      "cell_type": "code",
      "source": [
        "!python rusentne23_download.py"
      ],
      "metadata": {
        "id": "CY-j0d2LyO-r"
      },
      "execution_count": null,
      "outputs": []
    },
    {
      "cell_type": "markdown",
      "source": [
        "# Zero-shot"
      ],
      "metadata": {
        "id": "Lq44DhqZxtt5"
      }
    },
    {
      "cell_type": "code",
      "source": [
        "!python zero_shot_infer.py --model google/flan-t5-large --src data/final_data_en.csv --prompt \"!rusentrel2023_se_en\" --bf16"
      ],
      "metadata": {
        "id": "lvhziSzPxvNF"
      },
      "execution_count": null,
      "outputs": []
    },
    {
      "cell_type": "code",
      "source": [
        "!python zero_shot_infer.py --model microsoft/phi-2 --src data/final_data_en.csv --prompt \"!rusentrel2023_se_en\""
      ],
      "metadata": {
        "id": "B-JWX3qYxvsv"
      },
      "execution_count": null,
      "outputs": []
    },
    {
      "cell_type": "code",
      "source": [
        "!python zero_shot_infer.py --model openai:gpt-3.5-turbo-1106 --src data/final_data.csv --prompt rusentrel2023_default_ru_short --max-length 75 --limit 5"
      ],
      "metadata": {
        "id": "XYOASTfdxy-b"
      },
      "execution_count": null,
      "outputs": []
    },
    {
      "cell_type": "code",
      "source": [
        "!python zero_shot_infer.py --model microsoft/phi-2 --src data/final_data_en.csv --prompt \"!rusentrel2023_se_en\""
      ],
      "metadata": {
        "id": "VHM-s7nWx0Q8"
      },
      "execution_count": null,
      "outputs": []
    },
    {
      "cell_type": "code",
      "source": [
        "!python zero_shot_infer.py --model mistralai/Mistral-7B-Instruct-v0.2 --src data/final_data_en.csv --prompt \"!rusentrel2023_se_en\""
      ],
      "metadata": {
        "id": "n419Bg6ax1XZ"
      },
      "execution_count": null,
      "outputs": []
    },
    {
      "cell_type": "code",
      "source": [
        "!python zero_shot_infer.py --model mistralai/Mistral-7B-Instruct-v0.1 --src data/final_data_en.csv --prompt \"!rusentrel2023_se_en\""
      ],
      "metadata": {
        "id": "uAOuU7b7x4BQ"
      },
      "execution_count": null,
      "outputs": []
    },
    {
      "cell_type": "code",
      "source": [
        "!python zero_shot_infer.py --model google/gemma-7B-it --src data/final_data_en.csv --prompt \"!rusentrel2023_se_en\" --hf-token \"<YOUR_HUGGINGFACE_TOKEN>\""
      ],
      "metadata": {
        "id": "ZuuWSTVyx5ZF"
      },
      "execution_count": null,
      "outputs": []
    },
    {
      "cell_type": "markdown",
      "source": [
        "# THoR"
      ],
      "metadata": {
        "id": "mEHZpi6ex8eS"
      }
    },
    {
      "cell_type": "code",
      "source": [
        "!python thor_prepare_data.py"
      ],
      "metadata": {
        "id": "5_VVmGNLzRLa"
      },
      "execution_count": null,
      "outputs": []
    },
    {
      "cell_type": "markdown",
      "source": [
        "Fine-tuning Flan-T5 model using `thor` engine"
      ],
      "metadata": {
        "id": "OpBM-Abb2tBz"
      }
    },
    {
      "cell_type": "code",
      "source": [
        "!python thor_finetune.py -r \"thor\" -d \"rusentne2023\" -bs 16 -es 1 -f \"./config/config.yaml\""
      ],
      "metadata": {
        "id": "paj2GsIJx7WV"
      },
      "execution_count": null,
      "outputs": []
    },
    {
      "cell_type": "markdown",
      "source": [
        "Zero-shot launch.\n",
        "\n",
        "> NOTE: You could also add `-li` to pass the index of the fine-tuned version of the Flan-T5."
      ],
      "metadata": {
        "id": "cn7OWC0M2PIR"
      }
    },
    {
      "cell_type": "code",
      "source": [
        "!python thor_finetune.py -r \"thor\" -d \"rusentne2023\" -z -bs 16 -f \"./config/config.yaml\""
      ],
      "metadata": {
        "id": "_la7i4Lj2MBj"
      },
      "execution_count": null,
      "outputs": []
    }
  ]
}